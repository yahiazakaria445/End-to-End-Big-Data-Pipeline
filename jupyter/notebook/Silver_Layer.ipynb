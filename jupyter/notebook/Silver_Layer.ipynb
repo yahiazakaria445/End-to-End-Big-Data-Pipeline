{
 "cells": [
  {
   "cell_type": "code",
   "execution_count": 1,
   "id": "6f2adcb7-c66e-4767-81a1-7970da45be0d",
   "metadata": {},
   "outputs": [
    {
     "name": "stdout",
     "output_type": "stream",
     "text": [
      ":: loading settings :: url = jar:file:/opt/spark/jars/ivy-2.5.1.jar!/org/apache/ivy/core/settings/ivysettings.xml\n"
     ]
    },
    {
     "name": "stderr",
     "output_type": "stream",
     "text": [
      "Ivy Default Cache set to: /home/jupyter/.ivy2/cache\n",
      "The jars for the packages stored in: /home/jupyter/.ivy2/jars\n",
      "io.delta#delta-spark_2.12 added as a dependency\n",
      ":: resolving dependencies :: org.apache.spark#spark-submit-parent-a7632463-9a6e-4fec-9ce9-af6dc6e09a4c;1.0\n",
      "\tconfs: [default]\n",
      "\tfound io.delta#delta-spark_2.12;3.2.1 in central\n",
      "\tfound io.delta#delta-storage;3.2.1 in central\n",
      "\tfound org.antlr#antlr4-runtime;4.9.3 in central\n",
      ":: resolution report :: resolve 178ms :: artifacts dl 7ms\n",
      "\t:: modules in use:\n",
      "\tio.delta#delta-spark_2.12;3.2.1 from central in [default]\n",
      "\tio.delta#delta-storage;3.2.1 from central in [default]\n",
      "\torg.antlr#antlr4-runtime;4.9.3 from central in [default]\n",
      "\t---------------------------------------------------------------------\n",
      "\t|                  |            modules            ||   artifacts   |\n",
      "\t|       conf       | number| search|dwnlded|evicted|| number|dwnlded|\n",
      "\t---------------------------------------------------------------------\n",
      "\t|      default     |   3   |   0   |   0   |   0   ||   3   |   0   |\n",
      "\t---------------------------------------------------------------------\n",
      ":: retrieving :: org.apache.spark#spark-submit-parent-a7632463-9a6e-4fec-9ce9-af6dc6e09a4c\n",
      "\tconfs: [default]\n",
      "\t0 artifacts copied, 3 already retrieved (0kB/7ms)\n",
      "Setting default log level to \"WARN\".\n",
      "To adjust logging level use sc.setLogLevel(newLevel). For SparkR, use setLogLevel(newLevel).\n",
      "25/08/30 23:19:50 WARN Client: Same path resource file:///home/jupyter/.ivy2/jars/io.delta_delta-spark_2.12-3.2.1.jar added multiple times to distributed cache.\n",
      "25/08/30 23:19:50 WARN Client: Same path resource file:///home/jupyter/.ivy2/jars/io.delta_delta-storage-3.2.1.jar added multiple times to distributed cache.\n",
      "25/08/30 23:19:50 WARN Client: Same path resource file:///home/jupyter/.ivy2/jars/org.antlr_antlr4-runtime-4.9.3.jar added multiple times to distributed cache.\n",
      "25/08/30 23:20:26 WARN SparkStringUtils: Truncated the string representation of a plan since it was too large. This behavior can be adjusted by setting 'spark.sql.debug.maxToStringFields'.\n",
      "                                                                                "
     ]
    },
    {
     "name": "stdout",
     "output_type": "stream",
     "text": [
      " Silver Layer saved to hdfs://master:8020/delta/silver/movies\n"
     ]
    }
   ],
   "source": [
    "from pyspark.sql import SparkSession\n",
    "from pyspark.sql.functions import col\n",
    "spark = (\n",
    "    SparkSession.builder\n",
    "        .appName(\"BronzeToSilver\")\n",
    "        .config(\"spark.jars.packages\",\n",
    "                \"io.delta:delta-spark_2.12:3.2.1\")\n",
    "        .config(\"spark.sql.extensions\", \"io.delta.sql.DeltaSparkSessionExtension\")\n",
    "        .config(\"spark.sql.catalog.spark_catalog\", \"org.apache.spark.sql.delta.catalog.DeltaCatalog\")\n",
    "        .getOrCreate()\n",
    ")\n",
    "\n",
    "\n",
    "bronze_path = \"hdfs://master:8020/delta/bronze/movies\"\n",
    "df_bronze = spark.read.format(\"delta\").load(bronze_path)\n",
    "\n",
    "\n",
    "df_silver = (\n",
    "    df_bronze\n",
    "    .dropna(subset=[\"Title\", \"Revenue_Millions\", \"Runtime_Minutes\"]) \n",
    "    .withColumn(\"Revenue_Millions\", col(\"Revenue_Millions\").cast(\"double\"))\n",
    "    .withColumn(\"Runtime_Minutes\", col(\"Runtime_Minutes\").cast(\"int\"))\n",
    "    .withColumn(\"Metascore\", col(\"Metascore\").cast(\"int\"))\n",
    "    .withColumn(\"Votes\", col(\"Votes\").cast(\"int\"))\n",
    ")\n",
    "\n",
    "\n",
    "silver_path = \"hdfs://master:8020/delta/silver/movies\"\n",
    "df_silver.write.format(\"delta\") \\\n",
    "    .mode(\"overwrite\") \\\n",
    "    .save(silver_path)\n",
    "\n",
    "print(f\" Silver Layer saved to {silver_path}\")\n"
   ]
  }
 ],
 "metadata": {
  "kernelspec": {
   "display_name": "Python 3 (ipykernel)",
   "language": "python",
   "name": "python3"
  },
  "language_info": {
   "codemirror_mode": {
    "name": "ipython",
    "version": 3
   },
   "file_extension": ".py",
   "mimetype": "text/x-python",
   "name": "python",
   "nbconvert_exporter": "python",
   "pygments_lexer": "ipython3",
   "version": "3.12.3"
  }
 },
 "nbformat": 4,
 "nbformat_minor": 5
}
