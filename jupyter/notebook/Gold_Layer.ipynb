{
 "cells": [
  {
   "cell_type": "code",
   "execution_count": 1,
   "id": "d1639021-1c4b-4e34-8d1c-4e62eccc7054",
   "metadata": {},
   "outputs": [
    {
     "name": "stdout",
     "output_type": "stream",
     "text": [
      ":: loading settings :: url = jar:file:/opt/spark/jars/ivy-2.5.1.jar!/org/apache/ivy/core/settings/ivysettings.xml\n"
     ]
    },
    {
     "name": "stderr",
     "output_type": "stream",
     "text": [
      "Ivy Default Cache set to: /home/jupyter/.ivy2/cache\n",
      "The jars for the packages stored in: /home/jupyter/.ivy2/jars\n",
      "io.delta#delta-spark_2.12 added as a dependency\n",
      ":: resolving dependencies :: org.apache.spark#spark-submit-parent-562b408f-a780-4677-abf4-4e9f70b2eb8c;1.0\n",
      "\tconfs: [default]\n",
      "\tfound io.delta#delta-spark_2.12;3.2.1 in central\n",
      "\tfound io.delta#delta-storage;3.2.1 in central\n",
      "\tfound org.antlr#antlr4-runtime;4.9.3 in central\n",
      ":: resolution report :: resolve 149ms :: artifacts dl 10ms\n",
      "\t:: modules in use:\n",
      "\tio.delta#delta-spark_2.12;3.2.1 from central in [default]\n",
      "\tio.delta#delta-storage;3.2.1 from central in [default]\n",
      "\torg.antlr#antlr4-runtime;4.9.3 from central in [default]\n",
      "\t---------------------------------------------------------------------\n",
      "\t|                  |            modules            ||   artifacts   |\n",
      "\t|       conf       | number| search|dwnlded|evicted|| number|dwnlded|\n",
      "\t---------------------------------------------------------------------\n",
      "\t|      default     |   3   |   0   |   0   |   0   ||   3   |   0   |\n",
      "\t---------------------------------------------------------------------\n",
      ":: retrieving :: org.apache.spark#spark-submit-parent-562b408f-a780-4677-abf4-4e9f70b2eb8c\n",
      "\tconfs: [default]\n",
      "\t0 artifacts copied, 3 already retrieved (0kB/9ms)\n",
      "Setting default log level to \"WARN\".\n",
      "To adjust logging level use sc.setLogLevel(newLevel). For SparkR, use setLogLevel(newLevel).\n",
      "25/08/31 01:03:09 WARN Client: Same path resource file:///home/jupyter/.ivy2/jars/io.delta_delta-spark_2.12-3.2.1.jar added multiple times to distributed cache.\n",
      "25/08/31 01:03:09 WARN Client: Same path resource file:///home/jupyter/.ivy2/jars/io.delta_delta-storage-3.2.1.jar added multiple times to distributed cache.\n",
      "25/08/31 01:03:09 WARN Client: Same path resource file:///home/jupyter/.ivy2/jars/org.antlr_antlr4-runtime-4.9.3.jar added multiple times to distributed cache.\n",
      "25/08/31 01:03:53 WARN SparkStringUtils: Truncated the string representation of a plan since it was too large. This behavior can be adjusted by setting 'spark.sql.debug.maxToStringFields'.\n",
      "                                                                                "
     ]
    },
    {
     "name": "stdout",
     "output_type": "stream",
     "text": [
      " Gold Layer saved to hdfs://master:8020/delta/gold/movies\n"
     ]
    }
   ],
   "source": [
    "from pyspark.sql import SparkSession\n",
    "from pyspark.sql.functions import col, when\n",
    "\n",
    "spark = (\n",
    "    SparkSession.builder\n",
    "        .appName(\"SilverToGold\")\n",
    "        .config(\"spark.jars.packages\", \"io.delta:delta-spark_2.12:3.2.1\")\n",
    "        .config(\"spark.sql.extensions\", \"io.delta.sql.DeltaSparkSessionExtension\")\n",
    "        .config(\"spark.sql.catalog.spark_catalog\", \"org.apache.spark.sql.delta.catalog.DeltaCatalog\")\n",
    "        .getOrCreate()\n",
    ")\n",
    "\n",
    "silver_path = \"hdfs://master:8020/delta/silver/movies\"\n",
    "df_silver = spark.read.format(\"delta\").load(silver_path)\n",
    "\n",
    "df_gold = (\n",
    "    df_silver\n",
    "    .withColumn(\"Revenue_Per_Minute\",\n",
    "                (col(\"Revenue_Millions\") * 1_000_000) / col(\"Runtime_Minutes\"))\n",
    "    .withColumn(\"Revenue_Category\",\n",
    "                when(col(\"Revenue_Millions\") >= 500, \"Blockbuster\")\n",
    "                .when(col(\"Revenue_Millions\") >= 100, \"Hit\")\n",
    "                .when(col(\"Revenue_Millions\") >= 10, \"Average\")\n",
    "                .otherwise(\"Flop\"))\n",
    ")\n",
    "\n",
    "gold_path = \"hdfs://master:8020/delta/gold/movies\"\n",
    "\n",
    "df_gold.write.format(\"delta\") \\\n",
    "    .mode(\"overwrite\") \\\n",
    "    .save(gold_path)\n",
    "\n",
    "print(f\" Gold Layer saved to {gold_path}\")\n"
   ]
  },
  {
   "cell_type": "code",
   "execution_count": 2,
   "id": "7085bde6-db89-440d-8d4e-fcfd0f4dae15",
   "metadata": {},
   "outputs": [
    {
     "name": "stdout",
     "output_type": "stream",
     "text": [
      "root\n",
      " |-- Actors: string (nullable = true)\n",
      " |-- Description: string (nullable = true)\n",
      " |-- Director: string (nullable = true)\n",
      " |-- Metascore: integer (nullable = true)\n",
      " |-- Revenue_Millions: double (nullable = true)\n",
      " |-- Runtime_Minutes: integer (nullable = true)\n",
      " |-- Votes: integer (nullable = true)\n",
      " |-- _id: string (nullable = true)\n",
      " |-- _rev: string (nullable = true)\n",
      " |-- genre: string (nullable = true)\n",
      " |-- language: string (nullable = true)\n",
      " |-- rating: string (nullable = true)\n",
      " |-- title: string (nullable = true)\n",
      " |-- year: integer (nullable = true)\n",
      " |-- Revenue_Per_Minute: double (nullable = true)\n",
      " |-- Revenue_Category: string (nullable = false)\n",
      "\n"
     ]
    }
   ],
   "source": [
    "df_gold.printSchema()"
   ]
  }
 ],
 "metadata": {
  "kernelspec": {
   "display_name": "Python 3 (ipykernel)",
   "language": "python",
   "name": "python3"
  },
  "language_info": {
   "codemirror_mode": {
    "name": "ipython",
    "version": 3
   },
   "file_extension": ".py",
   "mimetype": "text/x-python",
   "name": "python",
   "nbconvert_exporter": "python",
   "pygments_lexer": "ipython3",
   "version": "3.12.3"
  }
 },
 "nbformat": 4,
 "nbformat_minor": 5
}
