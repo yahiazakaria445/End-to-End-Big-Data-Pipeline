{
 "cells": [
  {
   "cell_type": "code",
   "execution_count": 2,
   "id": "b3cc385b-e970-4caa-902d-4d8079ad79d4",
   "metadata": {},
   "outputs": [
    {
     "name": "stderr",
     "output_type": "stream",
     "text": [
      "[Stage 1:>                                                          (0 + 1) / 1]"
     ]
    },
    {
     "name": "stdout",
     "output_type": "stream",
     "text": [
      " Bronze Layer saved to hdfs://master:8020/delta/bronze/movies\n"
     ]
    },
    {
     "name": "stderr",
     "output_type": "stream",
     "text": [
      "                                                                                "
     ]
    }
   ],
   "source": [
    "from pyspark.sql import SparkSession\n",
    "from pyspark.sql.functions import col\n",
    "spark = (\n",
    "    SparkSession.builder\n",
    "        .appName(\"MongoToBronze\")\n",
    "        .config(\"spark.jars.packages\",\n",
    "                \"org.mongodb.spark:mongo-spark-connector_2.12:10.3.0,\"\n",
    "                \"io.delta:delta-spark_2.12:3.2.1\")\n",
    "        .config(\"spark.sql.extensions\", \"io.delta.sql.DeltaSparkSessionExtension\")\n",
    "        .config(\"spark.sql.catalog.spark_catalog\", \"org.apache.spark.sql.delta.catalog.DeltaCatalog\")\n",
    "        .config(\"spark.mongodb.read.connection.uri\",\n",
    "                \"mongodb://host.docker.internal:27017/mongo_movies.movies\")  \n",
    "        .getOrCreate()\n",
    ")\n",
    "df = spark.read.format(\"mongodb\").load()\n",
    "\n",
    "\n",
    "\n",
    "df_clean = (\n",
    "    df.withColumnRenamed(\"Revenue (Millions)\", \"Revenue_Millions\")\n",
    "      .withColumnRenamed(\"Runtime (Minutes)\", \"Runtime_Minutes\")\n",
    "      .drop(\"views\")\n",
    ")\n",
    "spark.conf.set(\"spark.databricks.delta.schema.autoMerge.enabled\", \"true\")\n",
    "spark.conf.set(\"delta.columnMapping.mode\", \"name\")\n",
    "\n",
    "bronze_path = \"hdfs://master:8020/delta/bronze/movies\"\n",
    "df_clean.write.format(\"delta\") \\\n",
    "    .option(\"delta.columnMapping.mode\", \"name\") \\\n",
    "    .mode(\"overwrite\") \\\n",
    "    .save(bronze_path)\n",
    "\n",
    "\n",
    "print(f\" Bronze Layer saved to {bronze_path}\")"
   ]
  }
 ],
 "metadata": {
  "kernelspec": {
   "display_name": "Python 3 (ipykernel)",
   "language": "python",
   "name": "python3"
  },
  "language_info": {
   "codemirror_mode": {
    "name": "ipython",
    "version": 3
   },
   "file_extension": ".py",
   "mimetype": "text/x-python",
   "name": "python",
   "nbconvert_exporter": "python",
   "pygments_lexer": "ipython3",
   "version": "3.12.3"
  }
 },
 "nbformat": 4,
 "nbformat_minor": 5
}
